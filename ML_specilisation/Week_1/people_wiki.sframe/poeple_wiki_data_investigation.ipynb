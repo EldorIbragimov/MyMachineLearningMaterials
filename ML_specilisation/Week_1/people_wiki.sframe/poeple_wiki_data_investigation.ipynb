{
 "cells": [
  {
   "cell_type": "code",
   "execution_count": 1,
   "metadata": {},
   "outputs": [],
   "source": [
    "import turicreate"
   ]
  },
  {
   "cell_type": "code",
   "execution_count": 2,
   "metadata": {},
   "outputs": [],
   "source": [
    "sf = turicreate.SFrame('people_wiki.sframe/')"
   ]
  },
  {
   "cell_type": "code",
   "execution_count": 26,
   "metadata": {},
   "outputs": [
    {
     "data": {
      "text/plain": [
       "dtype: str\n",
       "Rows: 59071\n",
       "['<http://dbpedia.org/resource/Alfred_J._Lewy>', '<http://dbpedia.org/resource/Aaron_LaCrate>', '<http://dbpedia.org/resource/Cathy_Caruth>', '<http://dbpedia.org/resource/Jenn_Ashworth>', '<http://dbpedia.org/resource/Joerg_Steineck>', '<http://dbpedia.org/resource/Andrew_Pinsent>', '<http://dbpedia.org/resource/Paddy_Dunne_(Gaelic_footballer)>', '<http://dbpedia.org/resource/Alexandros_Mouzas>', '<http://dbpedia.org/resource/John_Angus_Campbell>', '<http://dbpedia.org/resource/Adel_Sellimi>', '<http://dbpedia.org/resource/Vic_Stasiuk>', '<http://dbpedia.org/resource/Anthony_Caruana>', '<http://dbpedia.org/resource/Th%C3%BCring_Br%C3%A4m>', '<http://dbpedia.org/resource/Aharon_Solomons>', '<http://dbpedia.org/resource/Steven_Weil>', '<http://dbpedia.org/resource/Timothy_Grucza>', '<http://dbpedia.org/resource/Michel_Che>', '<http://dbpedia.org/resource/Jaafar_Aksikas>', '<http://dbpedia.org/resource/Marc_Logan>', '<http://dbpedia.org/resource/Corey_Woolfolk>', '<http://dbpedia.org/resource/Robert_N._Chatigny>', '<http://dbpedia.org/resource/Yohannes_Yual>', '<http://dbpedia.org/resource/David_Vernon_Williams>', '<http://dbpedia.org/resource/William_J._Ely>', '<http://dbpedia.org/resource/Susan_Christie>', '<http://dbpedia.org/resource/Avi_Muchnick>', '<http://dbpedia.org/resource/Robin_MacPherson>', '<http://dbpedia.org/resource/Robert_S._Gold>', '<http://dbpedia.org/resource/Zvonimir_Juri%C4%87>', '<http://dbpedia.org/resource/Robert_Grant_Irving>', '<http://dbpedia.org/resource/Anerood_Jugnauth>', '<http://dbpedia.org/resource/Cajjmere_Wray>', '<http://dbpedia.org/resource/Al_Hairston>', '<http://dbpedia.org/resource/Albert_Apuzzi>', '<http://dbpedia.org/resource/Ron_Shuman>', '<http://dbpedia.org/resource/Bill_Young_(Australian_rules_footballer)>', '<http://dbpedia.org/resource/Oscar_Milani>', '<http://dbpedia.org/resource/Se%C3%A1n_%C3%93g_%C3%93_hAilp%C3%ADn>', '<http://dbpedia.org/resource/Mike_Trebilcock>', '<http://dbpedia.org/resource/Steven_Point>', '<http://dbpedia.org/resource/Viktoriya_Yermolyeva>', '<http://dbpedia.org/resource/Joseph_Massucci>', '<http://dbpedia.org/resource/Angela_Conner>', '<http://dbpedia.org/resource/Erik_Marcisak>', '<http://dbpedia.org/resource/Marilyn_Hall_Patel>', '<http://dbpedia.org/resource/Yolande_Thibeault>', '<http://dbpedia.org/resource/Tom_Bradley_(author)>', '<http://dbpedia.org/resource/Roger_James_(footballer)>', '<http://dbpedia.org/resource/Barbara_Kolb>', '<http://dbpedia.org/resource/Kevon_Glickman>', '<http://dbpedia.org/resource/Colleen_McGill>', '<http://dbpedia.org/resource/Ant%C3%B3nio_Castanheira_Neves>', '<http://dbpedia.org/resource/Ed_Rubbert>', '<http://dbpedia.org/resource/Gerard_Toal>', '<http://dbpedia.org/resource/Arturo_J._Marcano_Guevara>', '<http://dbpedia.org/resource/Steven_Marrs>', '<http://dbpedia.org/resource/Robbie_Buck>', '<http://dbpedia.org/resource/Bernie_Hayes>', '<http://dbpedia.org/resource/Emmanuel_Pierre-Antoine>', '<http://dbpedia.org/resource/Joe_B._Mauldin>', '<http://dbpedia.org/resource/Stephen_J_Smith>', '<http://dbpedia.org/resource/William_Kipsang>', '<http://dbpedia.org/resource/David_Pastr%C5%88%C3%A1k>', '<http://dbpedia.org/resource/Renny_Pritikin>', '<http://dbpedia.org/resource/Andr%C3%A9_Hurst>', '<http://dbpedia.org/resource/Jerry_Adams>', '<http://dbpedia.org/resource/Otto_Happel>', '<http://dbpedia.org/resource/John_Acquaviva>', '<http://dbpedia.org/resource/Jimmy_Lewis_(surfer)>', '<http://dbpedia.org/resource/Henry_Honiball>', '<http://dbpedia.org/resource/Randal_Quarles>', '<http://dbpedia.org/resource/Logan_Aldridge>', '<http://dbpedia.org/resource/Tobias_Frere-Jones>', '<http://dbpedia.org/resource/Roland_De_Wolfe>', '<http://dbpedia.org/resource/Keith_Jennings_(basketball)>', '<http://dbpedia.org/resource/David_Vanacore>', '<http://dbpedia.org/resource/Jeff_Mauro>', '<http://dbpedia.org/resource/Meddy_Ford>', '<http://dbpedia.org/resource/Dave_Chomiak>', '<http://dbpedia.org/resource/Jimmy_Johnson_(cartoonist)>', '<http://dbpedia.org/resource/Keyshia_Cole>', '<http://dbpedia.org/resource/Indu_Shahani>', '<http://dbpedia.org/resource/Leonardo_%C3%81lvarez_Romo>', '<http://dbpedia.org/resource/Paul_McGrath_(politician)>', '<http://dbpedia.org/resource/Gary_R._Roberts>', '<http://dbpedia.org/resource/Bruce_Adolphe>', '<http://dbpedia.org/resource/Peter_Eigen>', '<http://dbpedia.org/resource/Alice_Doria-Gamilla>', '<http://dbpedia.org/resource/Astrid_Yunadi>', '<http://dbpedia.org/resource/Daniel_Janssen>', '<http://dbpedia.org/resource/Xiao-Gang_Wen>', '<http://dbpedia.org/resource/Gunnar_Svensson>', '<http://dbpedia.org/resource/Hadi_Ghabel>', '<http://dbpedia.org/resource/Gioconda_Vessichelli>', '<http://dbpedia.org/resource/Jan_Hopkins>', '<http://dbpedia.org/resource/Peter_Naur>', '<http://dbpedia.org/resource/Nivio_Ziviani>', '<http://dbpedia.org/resource/Abdul_Salam_Azimi>', '<http://dbpedia.org/resource/Thomas_McCarthy_(poet)>', '<http://dbpedia.org/resource/K._Vardachari_Thiruvengadam>', ... ]"
      ]
     },
     "execution_count": 26,
     "metadata": {},
     "output_type": "execute_result"
    }
   ],
   "source": [
    "sf['URI'].unique()"
   ]
  },
  {
   "cell_type": "code",
   "execution_count": null,
   "metadata": {},
   "outputs": [],
   "source": []
  }
 ],
 "metadata": {
  "kernelspec": {
   "display_name": "Python 3",
   "language": "python",
   "name": "python3"
  },
  "language_info": {
   "codemirror_mode": {
    "name": "ipython",
    "version": 3
   },
   "file_extension": ".py",
   "mimetype": "text/x-python",
   "name": "python",
   "nbconvert_exporter": "python",
   "pygments_lexer": "ipython3",
   "version": "3.7.4"
  }
 },
 "nbformat": 4,
 "nbformat_minor": 2
}
